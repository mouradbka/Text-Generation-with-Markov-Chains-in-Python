{
 "cells": [
  {
   "cell_type": "markdown",
   "metadata": {},
   "source": [
    "Text Generation with Markov Chains in Python\n",
    "============================================"
   ]
  },
  {
   "cell_type": "code",
   "execution_count": 3,
   "metadata": {},
   "outputs": [],
   "source": [
    "# texts = ['text/grimm_tales.txt', 'text/little_red_riding_hood.txt',\\\n",
    "#          'text/robin_hood_prologue.txt']\n",
    "files = ['grimm_tales.txt']\n",
    "text = ''\n",
    "for f in files:\n",
    "    with open(f, 'r') as f:\n",
    "        text += f.read()\n"
   ]
  },
  {
   "cell_type": "code",
   "execution_count": 4,
   "metadata": {},
   "outputs": [
    {
     "name": "stdout",
     "output_type": "stream",
     "text": [
      "THE GOLDEN BIRD\n",
      "\n",
      "A certain king had a beautiful garden, and in the garden stood a tree\n",
      "which bore go\n"
     ]
    }
   ],
   "source": [
    "print(text[:100])"
   ]
  },
  {
   "cell_type": "markdown",
   "metadata": {},
   "source": [
    "Weather as a Markov Chain\n",
    "-------------------------\n",
    "\n",
    "![alt text](images/markov_weather.png \"Weather\")\n",
    "\n",
    "Matrix representation (rows are current state, columns are next state):\n",
    "\n",
    "| | Sunny | Cloudy | Rainy |\n",
    "| --- | --- | --- | --- |\n",
    "| **Sunny** | 0.6 | 0.1 | 0.3 |\n",
    "| **Cloudy** | 0.3 | 0.3 | 0.4 |\n",
    "| **Rainy** | 0.3 | 0.2 | 0.5 |\n"
   ]
  },
  {
   "cell_type": "markdown",
   "metadata": {},
   "source": [
    "Text as a Markov Chain\n",
    "----------------------\n",
    "\n",
    "**The cat ran over the dog.**\n",
    "\n",
    "![alt text](images/markov_text1.png \"Text\")\n",
    "\n",
    "Matrix representation (rows are current state, columns are next state):\n",
    "\n",
    "| | the | cat | ran | over | dog | . |\n",
    "| --- | --- | --- | --- | --- | --- | --- |\n",
    "| **the** | 0 | 0.5 | 0 | 0 | 0.5 | 0 |\n",
    "| **cat** | 0 | 0 | 1 | 0 | 0 | 0 |\n",
    "| **ran** | 0 | 0 | 0 | 1 | 0 | 0 |\n",
    "| **over** | 1 | 0 | 0 | 0 | 0 | 0 |\n",
    "| **dog** | 0 | 0 | 0 | 0 | 0 | 1 |\n",
    "| **.** | 0 | 0 | 0 | 0 | 0 | 1 |\n",
    "\n"
   ]
  },
  {
   "cell_type": "markdown",
   "metadata": {},
   "source": [
    "Define states as the distinct word tokens"
   ]
  },
  {
   "cell_type": "code",
   "execution_count": 41,
   "metadata": {},
   "outputs": [
    {
     "name": "stdout",
     "output_type": "stream",
     "text": [
      "['THE', 'GOLDEN', 'BIRD', 'A', 'certain', 'king', 'had', 'a', 'beautiful', 'ga'] \n",
      "\n",
      "['THE', 'GOLDEN', 'BIRD', 'A', 'certain', 'king', 'had', 'a', 'beautiful', 'ga'] \n",
      "\n",
      "['joined', 'returned', 'observe', 'reproached', 'bean', 'dripping', 'sounding', 'milkpail', 'heads', 'east']\n"
     ]
    }
   ],
   "source": [
    "import re\n",
    "\n",
    "text = re.sub(\"[^A-z,.!?'\\n ]+\", \"\", text) #cleaning characters\n",
    "print(text[:50].split(), '\\n')\n",
    "text = re.sub(\"([.,!?])\", r\" \\1 \", text)\n",
    "    #Here we are using a capture syntax https://www.lzone.de/examples/Python%20re.sub  \n",
    "    #need to put Parentheses around the squared brackets and then the '\\1'.\n",
    "    \n",
    "    #Needed to add the r\"..\" to indicate raw string to read the \\ correctly\n",
    "    \n",
    "tokens = text.lower().split()\n",
    "distinct_states = list(set(tokens))\n",
    "print(distinct_states[:10])"
   ]
  },
  {
   "cell_type": "markdown",
   "metadata": {},
   "source": [
    "Define transition matrix"
   ]
  },
  {
   "cell_type": "code",
   "execution_count": 42,
   "metadata": {},
   "outputs": [],
   "source": [
    "from scipy.sparse import csr_matrix\n",
    "m = csr_matrix(\n",
    "    (len(distinct_states), len(distinct_states)), \n",
    "    dtype = int\n",
    "        )\n",
    "\n",
    "state_index = dict([(state, idx_num) for idx_num, state in enumerate(distinct_states)])"
   ]
  },
  {
   "cell_type": "markdown",
   "metadata": {},
   "source": [
    "Count transitions and fill in transition matrix"
   ]
  },
  {
   "cell_type": "code",
   "execution_count": 43,
   "metadata": {},
   "outputs": [
    {
     "name": "stderr",
     "output_type": "stream",
     "text": [
      "/home/rhyme/.local/lib/python3.6/site-packages/scipy/sparse/_index.py:84: SparseEfficiencyWarning: Changing the sparsity structure of a csr_matrix is expensive. lil_matrix is more efficient.\n",
      "  self._set_intXint(row, col, x.flat[0])\n"
     ]
    },
    {
     "name": "stdout",
     "output_type": "stream",
     "text": [
      "CPU times: user 26.2 s, sys: 0 ns, total: 26.2 s\n",
      "Wall time: 26.3 s\n"
     ]
    }
   ],
   "source": [
    "%%time\n",
    "for i in range(len(tokens)-1):\n",
    "    row = state_index[tokens[i]]\n",
    "    col = state_index[tokens[i+1]]\n",
    "    m[row, col]+=1\n",
    "#     m._set_intXint(row, col, )"
   ]
  },
  {
   "cell_type": "markdown",
   "metadata": {},
   "source": [
    "Generate new text"
   ]
  },
  {
   "cell_type": "code",
   "execution_count": 46,
   "metadata": {},
   "outputs": [
    {
     "name": "stdout",
     "output_type": "stream",
     "text": [
      "Finely.\n",
      "\n",
      "Then she was so far, let the font at the woman and both sides of the little kid had bewailed her dainty tongue clave to stay the haycart.\n",
      "\n",
      "So he cried out of her more than that however, and sang my workshop making sport of gold, he could hardly knows i will have you in the moss, and courteously that not stay here very angry, pray give you to climb like to it went to bewail her hair fall on the door even get nothing was making a kings daughter, the grinder never was as quickly?\n",
      "\n",
      "\n",
      "CPU times: user 90.7 ms, sys: 0 ns, total: 90.7 ms\n",
      "Wall time: 143 ms\n"
     ]
    }
   ],
   "source": [
    "%%time\n",
    "import numpy as np\n",
    "\n",
    "start_state_index  = np.random.randint(len(distinct_states))\n",
    "state = distinct_states[start_state_index]\n",
    "num_sentences = 0\n",
    "output = state.capitalize()\n",
    "capitalize = False\n",
    "\n",
    "while num_sentences < 3:\n",
    "    row = m[state_index[state], :]\n",
    "    probabilities = row / row.sum() #normalizing the values\n",
    "    probabilities = probabilities.toarray()[0] #[0] to get only the values. \n",
    "    \n",
    "    next_state_index = np.random.choice( #allow to sample following a distrib.\n",
    "        len(distinct_states),\n",
    "        1,\n",
    "        p = probabilities #indicate the distrubution of each integer. \n",
    "    )\n",
    "    \n",
    "    next_state = distinct_states[next_state_index[0]]\n",
    "    \n",
    "    if next_state in ('.', '!', '?'):\n",
    "#         print('punctuation ')\n",
    "        output += next_state + '\\n\\n'\n",
    "#         print(output)\n",
    "\n",
    "        capitalize = True\n",
    "        num_sentences += 1\n",
    "        \n",
    "    elif next_state == ',':\n",
    "#         print( ' , - ', next_state) \n",
    "        output += next_state #no space\n",
    "#         print(output)\n",
    "        \n",
    "    else:\n",
    "        \n",
    "        if capitalize:\n",
    "#             print('capita')\n",
    "            output += next_state.capitalize()\n",
    "#             print(output)\n",
    "\n",
    "            capitalize = False\n",
    "        else:\n",
    "#             print('notmal')\n",
    "            output += ' ' + next_state\n",
    "#             print(output)\n",
    "\n",
    "    \n",
    "    state = next_state\n",
    "print(output)"
   ]
  },
  {
   "cell_type": "markdown",
   "metadata": {},
   "source": [
    "k-Word Markov Chain\n",
    "-------------------\n",
    "\n",
    "**The cat ran over the dog.**\n",
    "\n",
    "![alt text](images/markov_text2.png \"Text\")\n",
    "\n",
    "Matrix representation (rows are current state, columns are next state):\n",
    "\n",
    "| | the cat | cat ran | ran over | over the | the dog | dog. |\n",
    "| --- | --- | --- | --- | --- | --- | --- |\n",
    "| **the cat**  | 0 | 1 | 0 | 0 | 0 | 0 |\n",
    "| **cat ran**  | 0 | 0 | 1 | 0 | 0 | 0 |\n",
    "| **ran over** | 0 | 0 | 0 | 1 | 0 | 0 |\n",
    "| **over the** | 0 | 0 | 0 | 0 | 1 | 0 |\n",
    "| **the dog**  | 0 | 0 | 0 | 0 | 0 | 1 |\n",
    "| **dog.**     | 0 | 0 | 0 | 0 | 0 | 1 |\n",
    "\n"
   ]
  },
  {
   "cell_type": "markdown",
   "metadata": {},
   "source": [
    "Define states as consecutive token pairs"
   ]
  },
  {
   "cell_type": "code",
   "execution_count": 17,
   "metadata": {},
   "outputs": [],
   "source": [
    "k = 2\n",
    "tokens = text.lower().split()\n",
    "states = [ tuple(tokens[i:i+k]) for i in range(len(tokens) - k+1)] \n",
    "    #Need tuples because list can be a key in a dict.\n",
    "    \n",
    "distinct_states = list(set(states))"
   ]
  },
  {
   "cell_type": "markdown",
   "metadata": {},
   "source": [
    "Define and fill transition matrix"
   ]
  },
  {
   "cell_type": "code",
   "execution_count": 18,
   "metadata": {},
   "outputs": [
    {
     "name": "stderr",
     "output_type": "stream",
     "text": [
      "/home/rhyme/.local/lib/python3.6/site-packages/scipy/sparse/_index.py:84: SparseEfficiencyWarning: Changing the sparsity structure of a csr_matrix is expensive. lil_matrix is more efficient.\n",
      "  self._set_intXint(row, col, x.flat[0])\n"
     ]
    }
   ],
   "source": [
    "from scipy.sparse import csr_matrix\n",
    "\n",
    "m = csr_matrix(\n",
    "    (len(distinct_states), len(distinct_states)), \n",
    "    dtype = int)\n",
    "\n",
    "state_index = dict( \n",
    "    [(state, idx_num) for idx_num, state in \\\n",
    "                   enumerate(distinct_states)])\n",
    "\n",
    "for i in range(len(tokens)-k):\n",
    "    state = tuple(tokens[i:i+k])\n",
    "    next_state = tuple(tokens[i+1:i+k+1])\n",
    "    row = state_index[state]\n",
    "    col = state_index[next_state]\n",
    "    m[row, col]+=1\n",
    "#     m._set_intXint(row, col, )"
   ]
  },
  {
   "cell_type": "markdown",
   "metadata": {},
   "source": [
    "Generate new text"
   ]
  },
  {
   "cell_type": "code",
   "execution_count": 21,
   "metadata": {},
   "outputs": [],
   "source": [
    "# for x in probabilities:\n",
    "#     print(x)"
   ]
  },
  {
   "cell_type": "code",
   "execution_count": null,
   "metadata": {},
   "outputs": [],
   "source": [
    "np.linalg.norm(m[state_index[state], :])"
   ]
  },
  {
   "cell_type": "code",
   "execution_count": 42,
   "metadata": {},
   "outputs": [
    {
     "name": "stdout",
     "output_type": "stream",
     "text": [
      "<class 'scipy.sparse.csr.csr_matrix'> 1.0\n",
      "<class 'scipy.sparse.csr.csr_matrix'> 1.0\n",
      "<class 'scipy.sparse.csr.csr_matrix'> 1.0\n",
      "<class 'scipy.sparse.csr.csr_matrix'> 1.0\n",
      "<class 'scipy.sparse.csr.csr_matrix'> 1.0\n",
      "<class 'scipy.sparse.csr.csr_matrix'> 1.0\n",
      "<class 'scipy.sparse.csr.csr_matrix'> 1.0\n",
      "<class 'scipy.sparse.csr.csr_matrix'> 1.0\n",
      "<class 'scipy.sparse.csr.csr_matrix'> 1.0\n",
      "<class 'scipy.sparse.csr.csr_matrix'> 1.0\n"
     ]
    }
   ],
   "source": [
    "for state in list(state_index.keys())[8:18]:\n",
    "#     print(m[state_index[state], :] / m[state_index[state], :].sum())\n",
    "    row = m[state_index[state], :]\n",
    "    p = row / row.sum() #normalizing the values\n",
    "    print(type(p), round(p.sum(), 5))\n",
    "#     print([x for x in probabilities if x != 0])"
   ]
  },
  {
   "cell_type": "code",
   "execution_count": 30,
   "metadata": {},
   "outputs": [
    {
     "ename": "TypeError",
     "evalue": "unsupported operand type(s) for //: 'csr_matrix' and 'int'",
     "output_type": "error",
     "traceback": [
      "\u001b[0;31m---------------------------------------------------------------------------\u001b[0m",
      "\u001b[0;31mTypeError\u001b[0m                                 Traceback (most recent call last)",
      "\u001b[0;32m<timed exec>\u001b[0m in \u001b[0;36m<module>\u001b[0;34m\u001b[0m\n",
      "\u001b[0;31mTypeError\u001b[0m: unsupported operand type(s) for //: 'csr_matrix' and 'int'"
     ]
    }
   ],
   "source": [
    "%%time\n",
    "import numpy as np\n",
    "\n",
    "start_state_index  = np.random.randint(len(distinct_states))\n",
    "state = distinct_states[start_state_index]\n",
    "\n",
    "num_sentences = 0\n",
    "output = ' '.join(state).capitalize()\n",
    "capitalize = False\n",
    "\n",
    "while num_sentences < 3:\n",
    "    \n",
    "    row = m[state_index[state], :]\n",
    "    probabilities = row / row.sum() #normalizing the values\n",
    "    probabilities = probabilities.toarray()[0] #[0] to get only the values. \n",
    "    \n",
    "    next_state_index = np.random.choice( #allow to sample following a distrib.\n",
    "        len(distinct_states),\n",
    "        1,\n",
    "        p = probabilities #indicate the distrubution of each integer. \n",
    "    )\n",
    "    \n",
    "    next_state = distinct_states[next_state_index[0]]\n",
    "    \n",
    "    if next_state[-1] in ('.', '!', '?'):\n",
    "#         print('punctuation ')\n",
    "        output += next_state[-1] + '\\n\\n'\n",
    "#         print(output)\n",
    "\n",
    "        capitalize = True\n",
    "        num_sentences += 1\n",
    "        \n",
    "    elif next_state[-1] == ',':\n",
    "#         print( ' , - ', next_state) \n",
    "        output += next_state[-1] #no space\n",
    "#         print(output)\n",
    "        \n",
    "    else:\n",
    "        \n",
    "        if capitalize:\n",
    "#             print('capita')\n",
    "            output += next_state[-1].capitalize()\n",
    "#             print(output)\n",
    "\n",
    "            capitalize = False\n",
    "        else:\n",
    "#             print('notmal')\n",
    "            output += ' ' + next_state[-1]\n",
    "#             print(output)\n",
    "\n",
    "    \n",
    "    state = next_state\n",
    "print(output)"
   ]
  },
  {
   "cell_type": "code",
   "execution_count": null,
   "metadata": {},
   "outputs": [],
   "source": []
  }
 ],
 "metadata": {
  "kernelspec": {
   "display_name": "Python 3",
   "language": "python",
   "name": "python3"
  },
  "language_info": {
   "codemirror_mode": {
    "name": "ipython",
    "version": 3
   },
   "file_extension": ".py",
   "mimetype": "text/x-python",
   "name": "python",
   "nbconvert_exporter": "python",
   "pygments_lexer": "ipython3",
   "version": "3.8.8"
  }
 },
 "nbformat": 4,
 "nbformat_minor": 4
}
